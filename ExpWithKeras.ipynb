{
 "cells": [
  {
   "cell_type": "code",
   "execution_count": 1,
   "id": "dffa09cb",
   "metadata": {},
   "outputs": [],
   "source": [
    "from keras.models import Sequential\n",
    "from keras.layers import Dense"
   ]
  },
  {
   "cell_type": "code",
   "execution_count": 2,
   "id": "0ff7a153",
   "metadata": {},
   "outputs": [],
   "source": [
    "#Creating a Model\n",
    "model = Sequential()"
   ]
  },
  {
   "cell_type": "code",
   "execution_count": 3,
   "id": "37151f81",
   "metadata": {},
   "outputs": [],
   "source": [
    "layer1 = Dense(units = 32, activation = \"relu\", input_dim = 30)\n",
    "model.add(layer1)\n",
    "model.add(Dense(units = 16, activation = \"relu\"))\n",
    "model.add(Dense(units = 1, activation = \"sigmoid\"))"
   ]
  },
  {
   "cell_type": "code",
   "execution_count": 4,
   "id": "45c25422",
   "metadata": {},
   "outputs": [],
   "source": [
    "model.compile(optimizer =\"adam\", loss = \"binary_crossentropy\", metrics=[\"accuracy\"])"
   ]
  },
  {
   "cell_type": "code",
   "execution_count": 5,
   "id": "5b755797",
   "metadata": {},
   "outputs": [],
   "source": [
    "from sklearn import datasets\n",
    "cancer = datasets.load_breast_cancer()\n",
    "from sklearn.model_selection import train_test_split\n",
    "\n",
    "x_train, x_test, y_train, y_test = train_test_split(cancer.data,cancer.target,test_size=0.2, random_state = 0)\n",
    "\n",
    "from sklearn.preprocessing import StandardScaler\n",
    "\n",
    "sc = StandardScaler()\n",
    "x_train = sc.fit_transform(x_train)\n",
    "x_test = sc.transform(x_test)\n",
    "\n"
   ]
  },
  {
   "cell_type": "code",
   "execution_count": 7,
   "id": "745b8b8d",
   "metadata": {},
   "outputs": [
    {
     "name": "stdout",
     "output_type": "stream",
     "text": [
      "Epoch 1/20\n",
      "10/10 [==============================] - 0s 17ms/step - loss: 0.0644 - accuracy: 0.9802 - val_loss: 0.0789 - val_accuracy: 0.9737\n",
      "Epoch 2/20\n",
      "10/10 [==============================] - 0s 2ms/step - loss: 0.0621 - accuracy: 0.9802 - val_loss: 0.0761 - val_accuracy: 0.9737\n",
      "Epoch 3/20\n",
      "10/10 [==============================] - 0s 2ms/step - loss: 0.0601 - accuracy: 0.9824 - val_loss: 0.0738 - val_accuracy: 0.9737\n",
      "Epoch 4/20\n",
      "10/10 [==============================] - 0s 2ms/step - loss: 0.0582 - accuracy: 0.9824 - val_loss: 0.0722 - val_accuracy: 0.9737\n",
      "Epoch 5/20\n",
      "10/10 [==============================] - 0s 2ms/step - loss: 0.0565 - accuracy: 0.9824 - val_loss: 0.0700 - val_accuracy: 0.9737\n",
      "Epoch 6/20\n",
      "10/10 [==============================] - 0s 2ms/step - loss: 0.0549 - accuracy: 0.9824 - val_loss: 0.0689 - val_accuracy: 0.9737\n",
      "Epoch 7/20\n",
      "10/10 [==============================] - 0s 2ms/step - loss: 0.0533 - accuracy: 0.9824 - val_loss: 0.0682 - val_accuracy: 0.9737\n",
      "Epoch 8/20\n",
      "10/10 [==============================] - 0s 2ms/step - loss: 0.0521 - accuracy: 0.9846 - val_loss: 0.0673 - val_accuracy: 0.9737\n",
      "Epoch 9/20\n",
      "10/10 [==============================] - 0s 2ms/step - loss: 0.0508 - accuracy: 0.9846 - val_loss: 0.0664 - val_accuracy: 0.9737\n",
      "Epoch 10/20\n",
      "10/10 [==============================] - 0s 2ms/step - loss: 0.0496 - accuracy: 0.9846 - val_loss: 0.0660 - val_accuracy: 0.9737\n",
      "Epoch 11/20\n",
      "10/10 [==============================] - 0s 2ms/step - loss: 0.0486 - accuracy: 0.9846 - val_loss: 0.0653 - val_accuracy: 0.9737\n",
      "Epoch 12/20\n",
      "10/10 [==============================] - 0s 2ms/step - loss: 0.0474 - accuracy: 0.9846 - val_loss: 0.0650 - val_accuracy: 0.9737\n",
      "Epoch 13/20\n",
      "10/10 [==============================] - 0s 2ms/step - loss: 0.0464 - accuracy: 0.9846 - val_loss: 0.0640 - val_accuracy: 0.9737\n",
      "Epoch 14/20\n",
      "10/10 [==============================] - 0s 2ms/step - loss: 0.0456 - accuracy: 0.9846 - val_loss: 0.0633 - val_accuracy: 0.9737\n",
      "Epoch 15/20\n",
      "10/10 [==============================] - 0s 2ms/step - loss: 0.0445 - accuracy: 0.9846 - val_loss: 0.0636 - val_accuracy: 0.9737\n",
      "Epoch 16/20\n",
      "10/10 [==============================] - 0s 2ms/step - loss: 0.0434 - accuracy: 0.9846 - val_loss: 0.0634 - val_accuracy: 0.9737\n",
      "Epoch 17/20\n",
      "10/10 [==============================] - 0s 2ms/step - loss: 0.0422 - accuracy: 0.9846 - val_loss: 0.0629 - val_accuracy: 0.9737\n",
      "Epoch 18/20\n",
      "10/10 [==============================] - 0s 2ms/step - loss: 0.0411 - accuracy: 0.9846 - val_loss: 0.0629 - val_accuracy: 0.9737\n",
      "Epoch 19/20\n",
      "10/10 [==============================] - 0s 2ms/step - loss: 0.0401 - accuracy: 0.9868 - val_loss: 0.0631 - val_accuracy: 0.9737\n",
      "Epoch 20/20\n",
      "10/10 [==============================] - 0s 2ms/step - loss: 0.0391 - accuracy: 0.9868 - val_loss: 0.0631 - val_accuracy: 0.9737\n"
     ]
    },
    {
     "data": {
      "text/plain": [
       "<tensorflow.python.keras.callbacks.History at 0x211f7d13ac0>"
      ]
     },
     "execution_count": 7,
     "metadata": {},
     "output_type": "execute_result"
    }
   ],
   "source": [
    "model.fit(x_train, y_train, epochs = 20, batch_size =50, validation_data=(x_test, y_test))"
   ]
  },
  {
   "cell_type": "code",
   "execution_count": 11,
   "id": "ce1b76fc",
   "metadata": {},
   "outputs": [
    {
     "name": "stdout",
     "output_type": "stream",
     "text": [
      "4/4 [==============================] - 0s 752us/step - loss: 0.0631 - accuracy: 0.9737\n"
     ]
    },
    {
     "data": {
      "text/plain": [
       "[0.063117615878582, 0.9736841917037964]"
      ]
     },
     "execution_count": 11,
     "metadata": {},
     "output_type": "execute_result"
    }
   ],
   "source": [
    "#predictions = model.predict(x_test)\n",
    "score = model.evaluate(x_test, y_test)\n",
    "score"
   ]
  }
 ],
 "metadata": {
  "kernelspec": {
   "display_name": "Python 3 (ipykernel)",
   "language": "python",
   "name": "python3"
  },
  "language_info": {
   "codemirror_mode": {
    "name": "ipython",
    "version": 3
   },
   "file_extension": ".py",
   "mimetype": "text/x-python",
   "name": "python",
   "nbconvert_exporter": "python",
   "pygments_lexer": "ipython3",
   "version": "3.8.15"
  }
 },
 "nbformat": 4,
 "nbformat_minor": 5
}
